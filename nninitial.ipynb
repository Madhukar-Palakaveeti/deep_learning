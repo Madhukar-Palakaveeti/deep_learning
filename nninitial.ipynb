{
  "cells": [
    {
      "cell_type": "markdown",
      "metadata": {
        "id": "view-in-github",
        "colab_type": "text"
      },
      "source": [
        "<a href=\"https://colab.research.google.com/github/Madhukar-Palakaveeti/deep_learning/blob/main/nninitial.ipynb\" target=\"_parent\"><img src=\"https://colab.research.google.com/assets/colab-badge.svg\" alt=\"Open In Colab\"/></a>"
      ]
    },
    {
      "cell_type": "code",
      "source": [
        "import numpy as np\n",
        "a = np.array([1,2,3,4])\n",
        "b = np.array([[1,2,3,4],[5,6,7,8]])\n",
        "c = np.array([[[1,2,3,4],[5,6,7,8]],[[2,3,4,5],[4,5,6,7]]])\n",
        "print(a.shape)\n",
        "print(b.shape)\n",
        "print(c.shape)"
      ],
      "metadata": {
        "id": "AhPorMVdrqoH",
        "colab": {
          "base_uri": "https://localhost:8080/"
        },
        "outputId": "3524aa96-3457-4a31-ab59-18e90c54660f"
      },
      "execution_count": null,
      "outputs": [
        {
          "output_type": "stream",
          "name": "stdout",
          "text": [
            "(4,)\n",
            "(2, 4)\n",
            "(2, 2, 4)\n"
          ]
        }
      ]
    },
    {
      "cell_type": "code",
      "source": [
        "z = np.zeros([3,2,4])\n",
        "print(z)\n",
        "print(z.shape)"
      ],
      "metadata": {
        "colab": {
          "base_uri": "https://localhost:8080/"
        },
        "id": "rWihZK6-595M",
        "outputId": "43eb024f-6c83-4986-db7c-4454a913494d"
      },
      "execution_count": null,
      "outputs": [
        {
          "output_type": "stream",
          "name": "stdout",
          "text": [
            "[[[0. 0. 0. 0.]\n",
            "  [0. 0. 0. 0.]]\n",
            "\n",
            " [[0. 0. 0. 0.]\n",
            "  [0. 0. 0. 0.]]\n",
            "\n",
            " [[0. 0. 0. 0.]\n",
            "  [0. 0. 0. 0.]]]\n",
            "(3, 2, 4)\n"
          ]
        }
      ]
    },
    {
      "cell_type": "code",
      "source": [
        "print(np.dot(b,a))\n",
        "print(np.dot(c,a))"
      ],
      "metadata": {
        "colab": {
          "base_uri": "https://localhost:8080/"
        },
        "id": "y6S4oQLw9JOu",
        "outputId": "e44c86ab-2b94-4769-ca34-34e3aa9cbea6"
      },
      "execution_count": null,
      "outputs": [
        {
          "output_type": "stream",
          "name": "stdout",
          "text": [
            "[30 70]\n",
            "[[30 70]\n",
            " [40 60]]\n"
          ]
        }
      ]
    },
    {
      "cell_type": "code",
      "source": [
        "I = np.identity(4)\n",
        "print(I)\n",
        "print(c)\n",
        "print(I.shape)"
      ],
      "metadata": {
        "colab": {
          "base_uri": "https://localhost:8080/"
        },
        "id": "zXqPLMO8_I97",
        "outputId": "10939da4-73b0-4579-b510-8dc73828a869"
      },
      "execution_count": null,
      "outputs": [
        {
          "output_type": "stream",
          "name": "stdout",
          "text": [
            "[[1. 0. 0. 0.]\n",
            " [0. 1. 0. 0.]\n",
            " [0. 0. 1. 0.]\n",
            " [0. 0. 0. 1.]]\n",
            "[[[1 2 3 4]\n",
            "  [5 6 7 8]]\n",
            "\n",
            " [[2 3 4 5]\n",
            "  [4 5 6 7]]]\n",
            "(4, 4)\n"
          ]
        }
      ]
    },
    {
      "cell_type": "code",
      "source": [
        "print(np.dot(c,I))"
      ],
      "metadata": {
        "colab": {
          "base_uri": "https://localhost:8080/"
        },
        "id": "FtKSlTCpAWHM",
        "outputId": "43ca5774-1245-4ca9-e1d9-37d1f4e47b3a"
      },
      "execution_count": null,
      "outputs": [
        {
          "output_type": "stream",
          "name": "stdout",
          "text": [
            "[[[1. 2. 3. 4.]\n",
            "  [5. 6. 7. 8.]]\n",
            "\n",
            " [[2. 3. 4. 5.]\n",
            "  [4. 5. 6. 7.]]]\n"
          ]
        }
      ]
    },
    {
      "cell_type": "code",
      "source": [
        "inputs = [1,2,3,2.5]\n",
        "weights = [[0.2,0.8,-0.5,1.0],[0.5,-0.91,0.26,-0.5],[-0.26,-0.27,0.17,0.87]]\n",
        "biases = [2,3,0.5]\n",
        "print(np.dot(weights,inputs)+biases)"
      ],
      "metadata": {
        "colab": {
          "base_uri": "https://localhost:8080/"
        },
        "id": "uBS1moP5An3Y",
        "outputId": "da0ea8fc-8513-4a4c-c86c-21304b78d980"
      },
      "execution_count": null,
      "outputs": [
        {
          "output_type": "stream",
          "name": "stdout",
          "text": [
            "[4.8   1.21  2.385]\n"
          ]
        }
      ]
    },
    {
      "cell_type": "code",
      "source": [
        "X = np.array([[1,2,3,2.5],[2.0,5.0,-1.0,2.0],[-1.5,2.7,3.3,-0.8]])\n",
        "print(X)"
      ],
      "metadata": {
        "colab": {
          "base_uri": "https://localhost:8080/"
        },
        "id": "ezZSHUwaDIDX",
        "outputId": "7aafd70a-1f17-485c-d9ae-febfe09a2b42"
      },
      "execution_count": null,
      "outputs": [
        {
          "output_type": "stream",
          "name": "stdout",
          "text": [
            "[[ 1.   2.   3.   2.5]\n",
            " [ 2.   5.  -1.   2. ]\n",
            " [-1.5  2.7  3.3 -0.8]]\n"
          ]
        }
      ]
    },
    {
      "cell_type": "code",
      "source": [
        "np.random.seed(0)\n"
      ],
      "metadata": {
        "id": "-IuruskBTQ-d"
      },
      "execution_count": null,
      "outputs": []
    },
    {
      "cell_type": "code",
      "source": [
        "class Layer_Dense:\n",
        "  def __init__(self,n_inputs,n_neurons):\n",
        "    self.weights = 0.10 * np.random.randn(n_inputs,n_neurons)\n",
        "    self.biases = np.zeros((1,n_neurons))\n",
        "\n",
        "  def forward(self,inputs):\n",
        "    self.output = np.dot(inputs, self.weights)+ self.biases\n",
        "\n",
        "class Activation_ReLU:\n",
        "  def forward(self,inputs):\n",
        "    self.output = np.maximum(0,inputs)\n",
        "\n",
        "class Activation_FakeSoftmax:\n",
        "  def forward(self,inputs):\n",
        "    exp_values = np.exp(inputs)\n",
        "    probabilities = exp_values/np.sum(exp_values,axis=1,keepdims=True)\n",
        "    self.output = probabilities\n",
        "\n",
        "class Activation_Softmax:\n",
        "  def forward(self,inputs):\n",
        "    exp_values = np.exp(inputs - np.max(inputs,axis=1,keepdims=True))\n",
        "    probabilities = exp_values/np.sum(exp_values,axis=1,keepdims=True)\n",
        "    self.output = probabilities\n",
        "\n"
      ],
      "metadata": {
        "id": "ttlSndBITVpY"
      },
      "execution_count": 51,
      "outputs": []
    },
    {
      "cell_type": "code",
      "source": [
        "!pip install nnfs"
      ],
      "metadata": {
        "colab": {
          "base_uri": "https://localhost:8080/"
        },
        "id": "rhQrgHOJUJ7y",
        "outputId": "3a551208-4032-4553-c1b0-dc6ad9525d84"
      },
      "execution_count": null,
      "outputs": [
        {
          "output_type": "stream",
          "name": "stdout",
          "text": [
            "Collecting nnfs\n",
            "  Downloading nnfs-0.5.1-py3-none-any.whl (9.1 kB)\n",
            "Requirement already satisfied: numpy in /usr/local/lib/python3.10/dist-packages (from nnfs) (1.25.2)\n",
            "Installing collected packages: nnfs\n",
            "Successfully installed nnfs-0.5.1\n"
          ]
        }
      ]
    },
    {
      "cell_type": "code",
      "source": [
        "import nnfs\n",
        "nnfs.init()\n",
        "from nnfs.datasets import spiral_data"
      ],
      "metadata": {
        "id": "XjHxcOysqECb"
      },
      "execution_count": null,
      "outputs": []
    },
    {
      "cell_type": "code",
      "source": [
        "X, y = spiral_data(samples=100, classes=3)"
      ],
      "metadata": {
        "id": "7fqjCjNNqK7J"
      },
      "execution_count": null,
      "outputs": []
    },
    {
      "cell_type": "code",
      "source": [
        "fake_layer = Layer_Dense(2,5)\n",
        "fake_layer.forward(X)\n",
        "# activation1 = Activation_ReLU()\n",
        "# activation1.forward(layer1.output)\n",
        "# print(activation1.output[:5])\n",
        "activation2 = Activation_FakeSoftmax()\n",
        "activation2.forward(fake_layer.output)\n",
        "print(\"Fake Softmax\")\n",
        "print(activation2.output[:5])\n",
        "\n",
        "activation3 = Activation_Softmax()\n",
        "activation3.forward(fake_layer.output)\n",
        "print(\"Softmax\")\n",
        "print(activation3.output[:5])\n"
      ],
      "metadata": {
        "colab": {
          "base_uri": "https://localhost:8080/"
        },
        "id": "dcVPHZiwqV7B",
        "outputId": "65d82d87-6e0c-4127-eaed-61f3f1b3ac14"
      },
      "execution_count": 53,
      "outputs": [
        {
          "output_type": "stream",
          "name": "stdout",
          "text": [
            "Fake Softmax\n",
            "[[0.2        0.2        0.2        0.2        0.2       ]\n",
            " [0.20006417 0.19994867 0.20017552 0.1998886  0.19992304]\n",
            " [0.20016704 0.19988662 0.20027584 0.19973189 0.19993868]\n",
            " [0.20025529 0.19986759 0.20005466 0.1996346  0.2001879 ]\n",
            " [0.20034951 0.19981185 0.20013618 0.19949242 0.20020999]]\n",
            "Softmax\n",
            "[[0.2        0.2        0.2        0.2        0.2       ]\n",
            " [0.20006417 0.19994868 0.20017554 0.1998886  0.19992304]\n",
            " [0.20016702 0.19988658 0.20027582 0.19973187 0.19993867]\n",
            " [0.20025527 0.19986758 0.20005466 0.19963458 0.2001879 ]\n",
            " [0.20034952 0.19981186 0.2001362  0.19949245 0.20020999]]\n"
          ]
        }
      ]
    },
    {
      "cell_type": "code",
      "source": [
        "# @title Implementing the neural network with two layers and two activation functions\n",
        "layer1 = Layer_Dense(2,5)\n",
        "activation1 = Activation_ReLU()\n",
        "\n",
        "layer2 = Layer_Dense(5,3)\n",
        "activation2 = Activation_Softmax()\n",
        "\n",
        "layer1.forward(X)\n",
        "activation1.forward(layer1.output)\n",
        "\n",
        "layer2.forward(activation1.output)\n",
        "activation2.forward(layer2.output)\n",
        "print(activation2.output[:5])"
      ],
      "metadata": {
        "id": "C-PVZKqGq0g1",
        "colab": {
          "base_uri": "https://localhost:8080/"
        },
        "outputId": "12a301d2-0ba1-46f0-fedd-5aab5a6f84a5"
      },
      "execution_count": 55,
      "outputs": [
        {
          "output_type": "stream",
          "name": "stdout",
          "text": [
            "[[0.33333334 0.33333334 0.33333334]\n",
            " [0.33334082 0.3333177  0.33334148]\n",
            " [0.33338886 0.33322498 0.33338612]\n",
            " [0.33351925 0.3330178  0.33346298]\n",
            " [0.3335719  0.33292595 0.33350214]]\n"
          ]
        }
      ]
    },
    {
      "cell_type": "code",
      "source": [
        "# @title LOSS\n",
        "#categorical_crossentropy for multiclass classification\n",
        "# mean_squared_error for regression\n",
        "import math\n",
        "target_output = [1,0,0]\n",
        "y_pred = [0.7,0.2,0.1]\n",
        "loss = -(math.log(y_pred[0]) * target_output[0] + math.log(y_pred[1]) * target_output[1] + math.log(y_pred[2]) * target_output[2])\n",
        "print(loss)"
      ],
      "metadata": {
        "id": "FJVsQWLkrs9J",
        "colab": {
          "base_uri": "https://localhost:8080/"
        },
        "outputId": "f53e07d4-0d05-46c5-acef-d7de10ee4b55"
      },
      "execution_count": 62,
      "outputs": [
        {
          "output_type": "stream",
          "name": "stdout",
          "text": [
            "0.35667494393873245\n"
          ]
        }
      ]
    },
    {
      "cell_type": "code",
      "source": [],
      "metadata": {
        "id": "cbmo0Rr1rtJE"
      },
      "execution_count": null,
      "outputs": []
    }
  ],
  "metadata": {
    "colab": {
      "provenance": [],
      "authorship_tag": "ABX9TyPKXlU732IybVO6RKmAW6mC",
      "include_colab_link": true
    },
    "kernelspec": {
      "display_name": "Python 3",
      "name": "python3"
    },
    "language_info": {
      "name": "python"
    }
  },
  "nbformat": 4,
  "nbformat_minor": 0
}