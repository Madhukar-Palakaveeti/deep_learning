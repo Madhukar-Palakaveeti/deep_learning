{
  "cells": [
    {
      "cell_type": "markdown",
      "metadata": {
        "id": "view-in-github",
        "colab_type": "text"
      },
      "source": [
        "<a href=\"https://colab.research.google.com/github/Madhukar-Palakaveeti/deep_learning/blob/main/nninitial.ipynb\" target=\"_parent\"><img src=\"https://colab.research.google.com/assets/colab-badge.svg\" alt=\"Open In Colab\"/></a>"
      ]
    },
    {
      "cell_type": "code",
      "source": [
        "import numpy as np\n",
        "a = np.array([1,2,3,4])\n",
        "b = np.array([[1,2,3,4],[5,6,7,8]])\n",
        "c = np.array([[[1,2,3,4],[5,6,7,8]],[[2,3,4,5],[4,5,6,7]]])\n",
        "print(a.shape)\n",
        "print(b.shape)\n",
        "print(c.shape)"
      ],
      "metadata": {
        "id": "AhPorMVdrqoH",
        "colab": {
          "base_uri": "https://localhost:8080/"
        },
        "outputId": "cd83b126-aa43-437a-8516-339a0f8609f5"
      },
      "execution_count": 2,
      "outputs": [
        {
          "output_type": "stream",
          "name": "stdout",
          "text": [
            "(4,)\n",
            "(2, 4)\n",
            "(2, 2, 4)\n"
          ]
        }
      ]
    },
    {
      "cell_type": "code",
      "source": [
        "z = np.zeros([3,2,4])\n",
        "print(z)\n",
        "print(z.shape)"
      ],
      "metadata": {
        "colab": {
          "base_uri": "https://localhost:8080/"
        },
        "id": "rWihZK6-595M",
        "outputId": "9e45ae82-d642-4c25-f768-1b56ced47f40"
      },
      "execution_count": 3,
      "outputs": [
        {
          "output_type": "stream",
          "name": "stdout",
          "text": [
            "[[[0. 0. 0. 0.]\n",
            "  [0. 0. 0. 0.]]\n",
            "\n",
            " [[0. 0. 0. 0.]\n",
            "  [0. 0. 0. 0.]]\n",
            "\n",
            " [[0. 0. 0. 0.]\n",
            "  [0. 0. 0. 0.]]]\n",
            "(3, 2, 4)\n"
          ]
        }
      ]
    },
    {
      "cell_type": "code",
      "source": [
        "print(np.dot(b,a))\n",
        "print(np.dot(c,a))"
      ],
      "metadata": {
        "colab": {
          "base_uri": "https://localhost:8080/"
        },
        "id": "y6S4oQLw9JOu",
        "outputId": "7e603fd4-1bdd-48d6-8e4d-194d40c2273f"
      },
      "execution_count": 4,
      "outputs": [
        {
          "output_type": "stream",
          "name": "stdout",
          "text": [
            "[30 70]\n",
            "[[30 70]\n",
            " [40 60]]\n"
          ]
        }
      ]
    },
    {
      "cell_type": "code",
      "source": [
        "I = np.identity(4)\n",
        "print(I)\n",
        "print(c)\n",
        "print(I.shape)"
      ],
      "metadata": {
        "colab": {
          "base_uri": "https://localhost:8080/"
        },
        "id": "zXqPLMO8_I97",
        "outputId": "d5a44f0f-6b4b-405b-c80b-42a8aea5a193"
      },
      "execution_count": 5,
      "outputs": [
        {
          "output_type": "stream",
          "name": "stdout",
          "text": [
            "[[1. 0. 0. 0.]\n",
            " [0. 1. 0. 0.]\n",
            " [0. 0. 1. 0.]\n",
            " [0. 0. 0. 1.]]\n",
            "[[[1 2 3 4]\n",
            "  [5 6 7 8]]\n",
            "\n",
            " [[2 3 4 5]\n",
            "  [4 5 6 7]]]\n",
            "(4, 4)\n"
          ]
        }
      ]
    },
    {
      "cell_type": "code",
      "source": [
        "print(np.dot(c,I))"
      ],
      "metadata": {
        "colab": {
          "base_uri": "https://localhost:8080/"
        },
        "id": "FtKSlTCpAWHM",
        "outputId": "b8b95303-e821-4f2f-f6a6-2e6421bda367"
      },
      "execution_count": 6,
      "outputs": [
        {
          "output_type": "stream",
          "name": "stdout",
          "text": [
            "[[[1. 2. 3. 4.]\n",
            "  [5. 6. 7. 8.]]\n",
            "\n",
            " [[2. 3. 4. 5.]\n",
            "  [4. 5. 6. 7.]]]\n"
          ]
        }
      ]
    },
    {
      "cell_type": "code",
      "source": [
        "inputs = [1,2,3,2.5]\n",
        "weights = [[0.2,0.8,-0.5,1.0],[0.5,-0.91,0.26,-0.5],[-0.26,-0.27,0.17,0.87]]\n",
        "biases = [2,3,0.5]\n",
        "print(np.dot(weights,inputs)+biases)"
      ],
      "metadata": {
        "colab": {
          "base_uri": "https://localhost:8080/"
        },
        "id": "uBS1moP5An3Y",
        "outputId": "7765a121-3abc-4b11-c9ae-8127d7400a6e"
      },
      "execution_count": 7,
      "outputs": [
        {
          "output_type": "stream",
          "name": "stdout",
          "text": [
            "[4.8   1.21  2.385]\n"
          ]
        }
      ]
    },
    {
      "cell_type": "code",
      "source": [
        "X = np.array([[1,2,3,2.5],[2.0,5.0,-1.0,2.0],[-1.5,2.7,3.3,-0.8]])\n",
        "print(X)"
      ],
      "metadata": {
        "colab": {
          "base_uri": "https://localhost:8080/"
        },
        "id": "ezZSHUwaDIDX",
        "outputId": "993ae7e1-6c44-46f9-d3e1-1b791dbd1730"
      },
      "execution_count": 8,
      "outputs": [
        {
          "output_type": "stream",
          "name": "stdout",
          "text": [
            "[[ 1.   2.   3.   2.5]\n",
            " [ 2.   5.  -1.   2. ]\n",
            " [-1.5  2.7  3.3 -0.8]]\n"
          ]
        }
      ]
    },
    {
      "cell_type": "code",
      "source": [
        "import numpy as np\n",
        "np.random.seed(0)\n"
      ],
      "metadata": {
        "id": "-IuruskBTQ-d"
      },
      "execution_count": 9,
      "outputs": []
    },
    {
      "cell_type": "code",
      "source": [
        "class Layer_Dense:\n",
        "  def __init__(self,n_inputs,n_neurons):\n",
        "    self.weights = 0.01 * np.random.randn(n_inputs,n_neurons)\n",
        "    self.biases = np.zeros((1,n_neurons))\n",
        "\n",
        "  def forward(self,inputs):\n",
        "    self.output = np.dot(inputs, self.weights)+ self.biases\n",
        "\n",
        "class Activation_ReLU:\n",
        "  def forward(self,inputs):\n",
        "    self.output = np.maximum(0,inputs)\n",
        "\n",
        "class Activation_FakeSoftmax:\n",
        "  def forward(self,inputs):\n",
        "    exp_values = np.exp(inputs)\n",
        "    probabilities = exp_values/np.sum(exp_values,axis=1,keepdims=True)\n",
        "    self.output = probabilities\n",
        "\n",
        "class Activation_Softmax:\n",
        "  def forward(self,inputs):\n",
        "    exp_values = np.exp(inputs - np.max(inputs,axis=1,keepdims=True))\n",
        "    probabilities = exp_values/np.sum(exp_values,axis=1,keepdims=True)\n",
        "    self.output = probabilities\n",
        "\n",
        "class Loss:\n",
        "  def calculate(self,output,y):\n",
        "    sample_losses = self.forward(output,y)\n",
        "    data_loss = np.mean(sample_losses)\n",
        "    return data_loss\n",
        "\n",
        "class Loss_Categoricalcrossentropy(Loss):\n",
        "  def forward(self, y_pred, y_true):\n",
        "    samples = len(y_pred)\n",
        "    y_pred_clipped = np.clip(y_pred, 1e-7, 1 - 1e-7)\n",
        "    if len(y_true.shape) == 1:\n",
        "      correct_confidences = y_pred_clipped[range(samples), y_true]\n",
        "\n",
        "    elif len(y_true.shape) == 2:\n",
        "      correct_confidences = np.sum(y_pred_clipped*y_true, axis=1)\n",
        "\n",
        "    negative_log_likelihoods = -np.log(correct_confidences)\n",
        "    return negative_log_likelihoods\n",
        "\n",
        "\n"
      ],
      "metadata": {
        "id": "ttlSndBITVpY"
      },
      "execution_count": 10,
      "outputs": []
    },
    {
      "cell_type": "code",
      "source": [
        "!pip install nnfs"
      ],
      "metadata": {
        "colab": {
          "base_uri": "https://localhost:8080/"
        },
        "id": "rhQrgHOJUJ7y",
        "outputId": "b652a270-ad9e-4b7d-fda7-bc20c18546b2"
      },
      "execution_count": 11,
      "outputs": [
        {
          "output_type": "stream",
          "name": "stdout",
          "text": [
            "Collecting nnfs\n",
            "  Downloading nnfs-0.5.1-py3-none-any.whl (9.1 kB)\n",
            "Requirement already satisfied: numpy in /usr/local/lib/python3.10/dist-packages (from nnfs) (1.25.2)\n",
            "Installing collected packages: nnfs\n",
            "Successfully installed nnfs-0.5.1\n"
          ]
        }
      ]
    },
    {
      "cell_type": "code",
      "source": [
        "import nnfs\n",
        "nnfs.init()\n",
        "from nnfs.datasets import spiral_data"
      ],
      "metadata": {
        "id": "XjHxcOysqECb"
      },
      "execution_count": 12,
      "outputs": []
    },
    {
      "cell_type": "code",
      "source": [
        "X, y = spiral_data(samples=100, classes=3)"
      ],
      "metadata": {
        "id": "7fqjCjNNqK7J"
      },
      "execution_count": 13,
      "outputs": []
    },
    {
      "cell_type": "code",
      "source": [
        "fake_layer = Layer_Dense(2,5)\n",
        "fake_layer.forward(X)\n",
        "# activation1 = Activation_ReLU()\n",
        "# activation1.forward(layer1.output)\n",
        "# print(activation1.output[:5])\n",
        "activation2 = Activation_FakeSoftmax()\n",
        "activation2.forward(fake_layer.output)\n",
        "print(\"Fake Softmax\")\n",
        "print(activation2.output[:5])\n",
        "\n",
        "activation3 = Activation_Softmax()\n",
        "activation3.forward(fake_layer.output)\n",
        "print(\"Softmax\")\n",
        "print(activation3.output[:5])\n"
      ],
      "metadata": {
        "colab": {
          "base_uri": "https://localhost:8080/"
        },
        "id": "dcVPHZiwqV7B",
        "outputId": "e97716f8-25de-4c23-bb23-680c4de608f0"
      },
      "execution_count": 14,
      "outputs": [
        {
          "output_type": "stream",
          "name": "stdout",
          "text": [
            "Fake Softmax\n",
            "[[0.2        0.2        0.2        0.2        0.2       ]\n",
            " [0.19999309 0.199994   0.1999831  0.2000191  0.20001073]\n",
            " [0.19996709 0.20001628 0.19997013 0.20001917 0.2000273 ]\n",
            " [0.19991961 0.20008954 0.19998294 0.1999674  0.20004053]\n",
            " [0.19989496 0.20011176 0.19997184 0.19996573 0.20005569]]\n",
            "Softmax\n",
            "[[0.2        0.2        0.2        0.2        0.2       ]\n",
            " [0.1999931  0.199994   0.1999831  0.2000191  0.2000107 ]\n",
            " [0.19996712 0.20001629 0.19997014 0.20001918 0.20002732]\n",
            " [0.1999196  0.20008956 0.19998293 0.1999674  0.20004052]\n",
            " [0.19989496 0.20011178 0.19997185 0.19996572 0.20005567]]\n"
          ]
        }
      ]
    },
    {
      "cell_type": "code",
      "source": [
        "# @title Implementing the neural network with two layers and two activation functions\n",
        "layer1 = Layer_Dense(2,5)\n",
        "activation1 = Activation_ReLU()\n",
        "\n",
        "layer2 = Layer_Dense(5,3)\n",
        "activation2 = Activation_Softmax()\n",
        "\n",
        "layer1.forward(X)\n",
        "activation1.forward(layer1.output)\n",
        "\n",
        "layer2.forward(activation1.output)\n",
        "activation2.forward(layer2.output)\n",
        "\n",
        "loss_function = Loss_Categoricalcrossentropy()\n",
        "loss = loss_function.calculate(activation2.output,y)\n",
        "print(f\"Loss:{loss}\")\n",
        "\n",
        "y_pred = np.argmax(activation2.output,axis=1)\n",
        "accuracy = np.mean(y_pred == y)\n",
        "print(f\"Accuracy:{accuracy*100}\")"
      ],
      "metadata": {
        "id": "C-PVZKqGq0g1",
        "colab": {
          "base_uri": "https://localhost:8080/"
        },
        "outputId": "88902b61-65d6-417a-9bbf-b10b2703b2d4"
      },
      "execution_count": 15,
      "outputs": [
        {
          "output_type": "stream",
          "name": "stdout",
          "text": [
            "Loss:1.098616361618042\n",
            "Accuracy:34.333333333333336\n"
          ]
        }
      ]
    },
    {
      "cell_type": "code",
      "source": [
        "# @title LOSS\n",
        "#categorical_crossentropy for multiclass classification\n",
        "# mean_squared_error for regression\n",
        "import math\n",
        "target_output = [1,0,0]\n",
        "y_pred = [0.7,0.2,0.1]\n",
        "loss = -(math.log(y_pred[0]))\n",
        "print(loss)"
      ],
      "metadata": {
        "id": "FJVsQWLkrs9J",
        "colab": {
          "base_uri": "https://localhost:8080/"
        },
        "outputId": "f84c6f60-3a0b-45ed-c00c-2b56d2b0dafa"
      },
      "execution_count": 16,
      "outputs": [
        {
          "output_type": "stream",
          "name": "stdout",
          "text": [
            "0.35667494393873245\n"
          ]
        }
      ]
    },
    {
      "cell_type": "code",
      "source": [
        "print(X[:5], y[:5])"
      ],
      "metadata": {
        "id": "cbmo0Rr1rtJE",
        "colab": {
          "base_uri": "https://localhost:8080/"
        },
        "outputId": "4e365806-2c95-4ff7-91a3-6bc62b3e6531"
      },
      "execution_count": 17,
      "outputs": [
        {
          "output_type": "stream",
          "name": "stdout",
          "text": [
            "[[0.         0.        ]\n",
            " [0.00299556 0.00964661]\n",
            " [0.01288097 0.01556285]\n",
            " [0.02997479 0.0044481 ]\n",
            " [0.03931246 0.00932828]] [0 0 0 0 0]\n"
          ]
        }
      ]
    },
    {
      "cell_type": "code",
      "source": [],
      "metadata": {
        "id": "cwSeaRZmMOIr"
      },
      "execution_count": 17,
      "outputs": []
    }
  ],
  "metadata": {
    "colab": {
      "provenance": [],
      "authorship_tag": "ABX9TyOeexICLqIpfv/eijPdbIQH",
      "include_colab_link": true
    },
    "kernelspec": {
      "display_name": "Python 3",
      "name": "python3"
    },
    "language_info": {
      "name": "python"
    }
  },
  "nbformat": 4,
  "nbformat_minor": 0
}