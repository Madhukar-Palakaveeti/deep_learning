{
  "nbformat": 4,
  "nbformat_minor": 0,
  "metadata": {
    "colab": {
      "provenance": [],
      "gpuType": "T4",
      "authorship_tag": "ABX9TyN678UKuD9Q/GxyZg8iYIKq",
      "include_colab_link": true
    },
    "kernelspec": {
      "name": "python3",
      "display_name": "Python 3"
    },
    "language_info": {
      "name": "python"
    }
  },
  "cells": [
    {
      "cell_type": "markdown",
      "metadata": {
        "id": "view-in-github",
        "colab_type": "text"
      },
      "source": [
        "<a href=\"https://colab.research.google.com/github/Madhukar-Palakaveeti/deep_learning/blob/main/Copy_of_convolution.ipynb\" target=\"_parent\"><img src=\"https://colab.research.google.com/assets/colab-badge.svg\" alt=\"Open In Colab\"/></a>"
      ]
    },
    {
      "cell_type": "code",
      "execution_count": null,
      "metadata": {
        "id": "_8zg_oVfbIS1"
      },
      "outputs": [],
      "source": [
        "import torch\n",
        "import torch.nn as nn\n",
        "import torch.optim as optim\n",
        "import torch.nn.functional as F\n",
        "from torch.utils.data import DataLoader\n",
        "from torchvision import datasets, transforms\n"
      ]
    },
    {
      "cell_type": "code",
      "source": [
        "A = torch.Tensor([[1,2],[1,2]])\n",
        "print(A.dtype)"
      ],
      "metadata": {
        "colab": {
          "base_uri": "https://localhost:8080/"
        },
        "id": "sPmCDQ7dbiZi",
        "outputId": "e02aa632-970e-430e-a67f-db391c7b34c1"
      },
      "execution_count": null,
      "outputs": [
        {
          "output_type": "stream",
          "name": "stdout",
          "text": [
            "torch.float32\n"
          ]
        }
      ]
    },
    {
      "cell_type": "code",
      "source": [
        "!nvidia-smi"
      ],
      "metadata": {
        "id": "WUqNHl9abl0Y",
        "colab": {
          "base_uri": "https://localhost:8080/"
        },
        "outputId": "d0002d70-0f2e-4a12-9e5d-2a59e5249bb0"
      },
      "execution_count": null,
      "outputs": [
        {
          "output_type": "stream",
          "name": "stdout",
          "text": [
            "Fri Oct 11 10:03:18 2024       \n",
            "+---------------------------------------------------------------------------------------+\n",
            "| NVIDIA-SMI 535.104.05             Driver Version: 535.104.05   CUDA Version: 12.2     |\n",
            "|-----------------------------------------+----------------------+----------------------+\n",
            "| GPU  Name                 Persistence-M | Bus-Id        Disp.A | Volatile Uncorr. ECC |\n",
            "| Fan  Temp   Perf          Pwr:Usage/Cap |         Memory-Usage | GPU-Util  Compute M. |\n",
            "|                                         |                      |               MIG M. |\n",
            "|=========================================+======================+======================|\n",
            "|   0  Tesla T4                       Off | 00000000:00:04.0 Off |                    0 |\n",
            "| N/A   49C    P8               9W /  70W |      0MiB / 15360MiB |      0%      Default |\n",
            "|                                         |                      |                  N/A |\n",
            "+-----------------------------------------+----------------------+----------------------+\n",
            "                                                                                         \n",
            "+---------------------------------------------------------------------------------------+\n",
            "| Processes:                                                                            |\n",
            "|  GPU   GI   CI        PID   Type   Process name                            GPU Memory |\n",
            "|        ID   ID                                                             Usage      |\n",
            "|=======================================================================================|\n",
            "|  No running processes found                                                           |\n",
            "+---------------------------------------------------------------------------------------+\n"
          ]
        }
      ]
    },
    {
      "cell_type": "code",
      "source": [
        "device = 'cuda' if torch.cuda.is_available() else 'cpu'\n",
        "device"
      ],
      "metadata": {
        "colab": {
          "base_uri": "https://localhost:8080/",
          "height": 35
        },
        "id": "3dcO9uFTCFBA",
        "outputId": "9c6a533c-2b28-47e5-9ee0-b1e4e41d2ca2"
      },
      "execution_count": null,
      "outputs": [
        {
          "output_type": "execute_result",
          "data": {
            "text/plain": [
              "'cuda'"
            ],
            "application/vnd.google.colaboratory.intrinsic+json": {
              "type": "string"
            }
          },
          "metadata": {},
          "execution_count": 5
        }
      ]
    },
    {
      "cell_type": "code",
      "source": [
        "\n",
        "import re\n",
        "paragraph = \"Track protection Authority form section 1 worksite details date 15th for the 10th ection Authority between the following locations.LOAS NJ2 on the Brockman line, MB19 on the brockman line and MB17 on the Brockman line, MB17 on the brockman line. Section2 protection, electronic protection, track protection number 737, 738 clear track1 place out track shorting cable for my location?\"\n",
        "\n",
        "sentences = re.split(r'(?<=[.,!?])\\s* | and ', paragraph)\n",
        "unique_sentences = set()\n",
        "ordered_sentences = []\n",
        "for sentence in sentences:\n",
        "    sentence_no_punct = re.sub(r'[.!,?]$', '', sentence).lower()\n",
        "    if sentence_no_punct not in unique_sentences:\n",
        "        unique_sentences.add(sentence_no_punct)\n",
        "        ordered_sentences.append(sentence)\n",
        "\n",
        "print('. '.join(ordered_sentences))\n"
      ],
      "metadata": {
        "colab": {
          "base_uri": "https://localhost:8080/"
        },
        "id": "le7XZps3CVj5",
        "outputId": "6e23e4c7-e915-4a30-aa22-c99c74d0c673"
      },
      "execution_count": null,
      "outputs": [
        {
          "output_type": "stream",
          "name": "stdout",
          "text": [
            "Track protection Authority form section 1 worksite details date 15th for the 10th ection Authority between the following locations.LOAS NJ2 on the Brockman line,. MB19 on the brockman line. MB17 on the Brockman line,. Section2 protection,. electronic protection,. track protection number 737,. 738 clear track1 place out track shorting cable for my location?\n"
          ]
        }
      ]
    },
    {
      "cell_type": "code",
      "source": [
        "para_arr = list(set(para_arr))\n",
        "print('.'.join(para_arr))"
      ],
      "metadata": {
        "colab": {
          "base_uri": "https://localhost:8080/"
        },
        "id": "fWecFoJGdFtJ",
        "outputId": "069fc390-6914-4c91-db97-7cf33d44edc9"
      },
      "execution_count": null,
      "outputs": [
        {
          "output_type": "stream",
          "name": "stdout",
          "text": [
            ".The quick brown fox jumps over the lazy dog. \n",
            "The quick brown fox jumps over the lazy dog\n"
          ]
        }
      ]
    },
    {
      "cell_type": "code",
      "source": [],
      "metadata": {
        "id": "gRixhL_TdWUA"
      },
      "execution_count": null,
      "outputs": []
    }
  ]
}